{
    "cells": [
        {
            "cell_type": "code",
            "execution_count": null,
            "metadata": {},
            "outputs": [],
            "source": "import pandas as pd\nimport dash\nfrom dash import html\nfrom dash import dcc\nfrom dash import Input, Output\nimport plotly.express as px\n\n# Read the airline data into pandas dataframe\nspacex_df = pd.read_csv(\"spacex_launch_dash.csv\")\nmax_payload = spacex_df['Payload Mass (kg)'].max()\nmin_payload = spacex_df['Payload Mass (kg)'].min()\n\n# The list of available launch sites as the data for the dropdown menu\nsites = spacex_df['Launch Site'].unique().tolist()\noptions = [{'label': 'All Sites', 'value': 'ALL'}]\nfor s in sites:\n    options.append({'label': s, 'value': s})\n\n\n# Create a dash application\napp = dash.Dash(__name__)\n\ntop = html.H1('SpaceX Launch Records Dashboard', style={'textAlign': 'center', 'color': '#503D36', 'font-size': 40})\n\ndropdown = dcc.Dropdown(id='site_dropdown', options=options,\n                        placeholder='Select Launch Site', searchable=True, value='ALL'),\n\nmarks = {i: \"{} kg\".format(i) for i in range(0, 11000, 1000)}\n\nslider = dcc.RangeSlider(id='payload-slider', min=0, max=10000,\n                         step=1000, marks=marks, value=[min_payload, max_payload],)\n\n# Create an app layout\napp.layout = html.Div(children=[html.Div(top), html.Br(),\n                                html.Div(dropdown), html.Br(),\n                                html.Div(dcc.Graph(id='success-pie-chart')),\n                                html.Div(html.P(\"Payload range (Kg):\")),\n                                html.Div(slider),\n                                html.Div(dcc.Graph(id='scatter-chart')),\n                                ])\n\n\n# TASK 2:\n# Add a callback function for `site-dropdown` as input, `success-pie-chart` as output\n@app.callback(\n    Output(component_id='success-pie-chart', component_property='figure'),\n    [Input(component_id='site_dropdown', component_property='value')]\n)\ndef update_dropdown(drop_sel):\n    df = spacex_df[spacex_df['class'] == 1]\n    title = 'Total Launches By all sites'\n    names = 'Launch Site'\n    if drop_sel != 'ALL':\n        df = spacex_df.loc[spacex_df['Launch Site'] == drop_sel]\n        title = 'Total Launches for {} success is class=1, failure is class=0'.format(drop_sel)\n        names = 'class'\n    return px.pie(df, names=names, hole=.3, title=title)\n\n\n# TASK 4:\n# Add a callback function for `site-dropdown` and `payload-slider` as inputs, `success-payload-scatter-chart` as output\n@app.callback(\n     Output(component_id='scatter-chart', component_property='figure'),\n     [Input(component_id='site_dropdown', component_property='value'),\n      Input(component_id=\"payload-slider\", component_property=\"value\")]\n)\ndef update_slider(drop_sel, slid_sel):\n    low, high = slid_sel\n    col = 'Payload Mass (kg)'\n    if drop_sel == 'ALL':\n        df = spacex_df[(spacex_df[col] > low) & (spacex_df[col] < high)]\n    else:\n        dfs = spacex_df[spacex_df['Launch Site'] == drop_sel]\n        df = dfs[(dfs[col] > low) & (dfs[col] < high)]\n    return px.scatter(df, x=col, y=\"class\", color=\"Booster Version\", size=col, hover_data=[col])\n# Run the app\n\n\nif __name__ == '__main__':\n    app.run_server()\n# %%"
        }
    ],
    "metadata": {
        "kernelspec": {
            "display_name": "Python 3.9",
            "language": "python",
            "name": "python3"
        },
        "language_info": {
            "codemirror_mode": {
                "name": "ipython",
                "version": 3
            },
            "file_extension": ".py",
            "mimetype": "text/x-python",
            "name": "python",
            "nbconvert_exporter": "python",
            "pygments_lexer": "ipython3",
            "version": "3.9.12"
        }
    },
    "nbformat": 4,
    "nbformat_minor": 1
}